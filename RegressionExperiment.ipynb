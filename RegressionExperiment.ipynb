{
 "cells": [
  {
   "cell_type": "code",
   "execution_count": 2,
   "metadata": {},
   "outputs": [],
   "source": [
    "from sklearn.datasets import load_svmlight_file\n",
    "from sklearn.model_selection import train_test_split\n",
    "import numpy as np\n",
    "from matplotlib import pyplot as plt\n",
    "import math\n",
    "import random"
   ]
  },
  {
   "cell_type": "code",
   "execution_count": 3,
   "metadata": {},
   "outputs": [],
   "source": [
    "# sigmoid function\n",
    "def function_g(x, w):\n",
    "    return 1 / (1 + math.exp(-np.dot(x, w)[0]))"
   ]
  },
  {
   "cell_type": "code",
   "execution_count": 4,
   "metadata": {},
   "outputs": [],
   "source": [
    "# compute each gradient and then average \n",
    "def compute_gradient(x, y, w):\n",
    "    gradient = 0.0\n",
    "    for i in range(len(x)):\n",
    "        gradient += (function_g(x[i], w) - y[i]) * x[i]\n",
    "    return gradient / len(x)"
   ]
  },
  {
   "cell_type": "code",
   "execution_count": 5,
   "metadata": {},
   "outputs": [],
   "source": [
    "# compute each loss and then average\n",
    "def loss_function(x, y, w):\n",
    "    loss = 0.0\n",
    "    for i in range(len(x)):\n",
    "        loss += y[i] * math.log(function_g(x[i], w)) + (1 - y[i]) * math.log(1 - function_g(x[i], w))\n",
    "    return -loss / len(x)"
   ]
  },
  {
   "cell_type": "code",
   "execution_count": 6,
   "metadata": {},
   "outputs": [],
   "source": [
    "# NAG update parameters\n",
    "def NAG(w, gradient, v, mu=0.9, eta=0.05):\n",
    "    v_prev = v\n",
    "    v = mu * v - eta * gradient\n",
    "    w += (-mu * v_prev + (1 + mu) * v).reshape((123, 1))\n",
    "    return w, v\n",
    "\n",
    "# RMSProp update parameters\n",
    "def RMSProp(w, gradient, cache, decay_rate=0.9, eps=1e-5, eta=0.01):\n",
    "    cache = decay_rate * cache + (1 - decay_rate) * (gradient ** 2)\n",
    "    w += (- eta * rmsprop_gradient / (np.sqrt(cache) + eps)).reshape((123, 1))\n",
    "    return w, cache\n",
    "\n",
    "# AdaDelta update parameters\n",
    "def AdaDelta(w, gradient, cache, delta_t, r=0.95, eps=1e-6):\n",
    "    cache = r * cache + (1 - r) * (gradient ** 2)\n",
    "    delta_theta = - np.sqrt(delta_t + eps) / np.sqrt(cache + eps) * gradient\n",
    "    w = w + delta_theta.reshape((123, 1))\n",
    "    delta_t = r * delta_t + (1 - r) * (delta_theta ** 2)\n",
    "    return w, cache, delta_t\n",
    "\n",
    "# Adam update parameters\n",
    "def Adam(w, gradient, m, i, t, beta1=0.9, beta2=0.999, eta=0.01, eps=1e-8):\n",
    "    m = beta1 * m + (1 - beta1) * gradient\n",
    "    mt = m / (1 - beta1 ** i)\n",
    "    t = beta2 * t + (1 - beta2) * (gradient ** 2)\n",
    "    vt = t / (1 - beta2 ** i)\n",
    "    w += (-eta * mt / (np.sqrt(vt) + eps)).reshape((123, 1))\n",
    "    return w, m, t"
   ]
  },
  {
   "cell_type": "code",
   "execution_count": 7,
   "metadata": {},
   "outputs": [],
   "source": [
    "# load train date\n",
    "train_data = load_svmlight_file('H:/ML/experiment/a9a.txt')\n",
    "x_train = np.reshape(train_data[0].todense().data, (train_data[0].shape[0], train_data[0].shape[1]))\n",
    "y_train = np.reshape(train_data[1].data, (train_data[1].shape[0], 1))\n",
    "y_train = (y_train + 1) / 2\n",
    "\n",
    "#load test data\n",
    "test_data = load_svmlight_file('H:/ML/experiment/a9a.t')\n",
    "zeros = np.zeros(test_data[0].shape[0])\n",
    "x_valid = np.reshape(test_data[0].todense().data, (test_data[0].shape[0], test_data[0].shape[1]))\n",
    "x_valid = np.column_stack((x_valid, zeros))\n",
    "y_valid = np.reshape(test_data[1].data, (test_data[1].shape[0], 1))\n",
    "y_valid = (y_valid + 1) / 2"
   ]
  },
  {
   "cell_type": "code",
   "execution_count": 8,
   "metadata": {},
   "outputs": [],
   "source": [
    "max_epoch = 201\n",
    "batch_size = 2000\n",
    "\n",
    "# initial each w to zero\n",
    "nag_w = np.zeros((x_train.shape[1], 1))\n",
    "rmsprop_w = np.zeros((x_train.shape[1], 1))\n",
    "adadelta_w = np.zeros((x_train.shape[1], 1))\n",
    "adam_w = np.zeros((x_train.shape[1], 1))\n",
    "\n",
    "# some parameters used in the update process are initialized to zero\n",
    "v = np.zeros(x_train.shape[1])\n",
    "cache = np.zeros(x_train.shape[1])\n",
    "adadelta_cache = np.zeros(x_train.shape[1])\n",
    "delta_t = np.zeros(x_train.shape[1])\n",
    "m = np.zeros(x_train.shape[1])\n",
    "t = np.zeros(x_train.shape[1])\n",
    "\n",
    "# recode the loss of each method \n",
    "nag_loss = []\n",
    "rmsprop_loss = []\n",
    "adadelta_loss = []\n",
    "adam_loss = []"
   ]
  },
  {
   "cell_type": "code",
   "execution_count": 9,
   "metadata": {},
   "outputs": [],
   "source": [
    "# update parameters\n",
    "for i in range(1, max_epoch):\n",
    "    index = list(range(len(x_train)))\n",
    "    random.shuffle(index)\n",
    "\n",
    "    # NAG update parameters\n",
    "    nag_gradient = compute_gradient(x_train[index][:batch_size], y_train[index][:batch_size], nag_w)\n",
    "    nag_w, v = NAG(nag_w, nag_gradient, v)\n",
    "    nag_loss.append(loss_function(x_valid, y_valid, nag_w))\n",
    "\n",
    "    # RMSprop update parameters\n",
    "    rmsprop_gradient = compute_gradient(x_train[index][:batch_size], y_train[index][:batch_size], rmsprop_w)\n",
    "    rmsprop_w, cache = RMSProp(rmsprop_w, rmsprop_gradient, cache)\n",
    "    rmsprop_loss.append(loss_function(x_valid, y_valid, rmsprop_w))\n",
    "\n",
    "    # AdaDelta update parameters\n",
    "    adadelta_gradient = compute_gradient(x_train[index][:batch_size], y_train[index][:batch_size], adadelta_w)\n",
    "    adadelta_w, adadelta_cache, delta_t = AdaDelta(adadelta_w, adadelta_gradient,\n",
    "                                                   adadelta_cache, delta_t)\n",
    "    adadelta_loss.append(loss_function(x_valid, y_valid, adadelta_w))\n",
    "\n",
    "    # Adam update parameters\n",
    "    adam_gradient = compute_gradient(x_train[index][:batch_size], y_train[index][:batch_size], adam_w)\n",
    "    adam_w, m, t = Adam(adam_w, adam_gradient, m, i, t)\n",
    "    adam_loss.append(loss_function(x_valid, y_valid, adam_w))"
   ]
  },
  {
   "cell_type": "code",
   "execution_count": 10,
   "metadata": {},
   "outputs": [
    {
     "data": {
      "image/png": "[encoded data removed]",
      "text/plain": [
       "<matplotlib.figure.Figure at 0x24e7fd79908>"
      ]
     },
     "metadata": {},
     "output_type": "display_data"
    }
   ],
   "source": [
    "# draw loss-epoch curve\n",
    "plt.plot(nag_loss, label='NAG')\n",
    "plt.plot(rmsprop_loss, label='Rmsprop')\n",
    "plt.plot(adadelta_loss, label='Adadelta')\n",
    "plt.plot(adam_loss, label='Adam')\n",
    "plt.yscale('log')\n",
    "plt.legend()\n",
    "plt.show()"
   ]
  },
  {
   "cell_type": "code",
   "execution_count": null,
   "metadata": {},
   "outputs": [],
   "source": []
  }
 ],
 "metadata": {
  "kernelspec": {
   "display_name": "Python 3",
   "language": "python",
   "name": "python3"
  },
  "language_info": {
   "codemirror_mode": {
    "name": "ipython",
    "version": 3
   },
   "file_extension": ".py",
   "mimetype": "text/x-python",
   "name": "python",
   "nbconvert_exporter": "python",
   "pygments_lexer": "ipython3",
   "version": "3.5.2"
  }
 },
 "nbformat": 4,
 "nbformat_minor": 1
}
